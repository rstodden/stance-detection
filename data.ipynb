{
 "cells": [
  {
   "cell_type": "code",
   "execution_count": 1,
   "id": "cf368cc3-629f-4b51-9248-4bd18ba1db67",
   "metadata": {
    "tags": []
   },
   "outputs": [],
   "source": [
    "import pandas as pd\n",
    "from collections import Counter\n",
    "import json, os\n",
    "from sklearn.model_selection import train_test_split"
   ]
  },
  {
   "cell_type": "markdown",
   "id": "c7e59d6d-7e6c-40df-9e4f-3c831af893f2",
   "metadata": {},
   "source": [
    "## Download data using MDL-stance-script\n",
    "https://github.com/UKPLab/mdl-stance-robustness/blob/master/download.sh"
   ]
  },
  {
   "cell_type": "code",
   "execution_count": 14,
   "id": "46018c4e-078e-41a9-91f9-92cf414626a9",
   "metadata": {
    "tags": []
   },
   "outputs": [],
   "source": [
    "# !wget https://raw.githubusercontent.com/UKPLab/mdl-stance-robustness/master/download.sh"
   ]
  },
  {
   "cell_type": "code",
   "execution_count": 15,
   "id": "cc6afa8e-1cc8-4203-9c57-9b146668ba61",
   "metadata": {
    "tags": []
   },
   "outputs": [],
   "source": [
    "# !mv download.sh data/download.sh"
   ]
  },
  {
   "cell_type": "code",
   "execution_count": 16,
   "id": "b5abbd47-7d4d-48e1-b7b4-228ac7194813",
   "metadata": {
    "scrolled": true,
    "tags": []
   },
   "outputs": [],
   "source": [
    "# ! sh data/download.sh"
   ]
  },
  {
   "cell_type": "markdown",
   "id": "52e64f21-24f7-4920-84b3-5018d4471ace",
   "metadata": {},
   "source": [
    "## ArgMin\n",
    "\n",
    "request data here: https://tudatalib.ulb.tu-darmstadt.de/handle/tudatalib/2345\n"
   ]
  },
  {
   "cell_type": "code",
   "execution_count": 17,
   "id": "a052b353-8574-46ca-95de-8147e9ac9a19",
   "metadata": {
    "tags": []
   },
   "outputs": [],
   "source": [
    "# !unzip data/ArgMin/UKP_sentential_argument_mining.zip"
   ]
  },
  {
   "cell_type": "code",
   "execution_count": 18,
   "id": "0af62b62-2e44-4f6b-a90e-1e064c21c098",
   "metadata": {
    "tags": []
   },
   "outputs": [
    {
     "name": "stdout",
     "output_type": "stream",
     "text": [
      "nuclear_energy.tsv\n",
      "school_uniforms.tsv\n",
      "cloning.tsv\n",
      "death_penalty.tsv\n",
      "abortion.tsv\n",
      "gun_control.tsv\n",
      "minimum_wage.tsv\n",
      "marijuana_legalization.tsv\n"
     ]
    }
   ],
   "source": [
    "list_files = list()\n",
    "for filename in [filename for filename in os.listdir(\"data/ArgMin/\") if filename.endswith(\".tsv\")]:\n",
    "    print(filename)\n",
    "    list_files.append(pd.read_csv(\"data/ArgMin/\"+filename, sep=\"\\t\", quotechar=\"'\"))\n",
    "\n",
    "df_argmin = pd.concat(list_files, ignore_index=True)\n",
    "df_argmin[\"uid\"] = range(0,len(df_argmin))\n"
   ]
  },
  {
   "cell_type": "code",
   "execution_count": 19,
   "id": "5b909f3c-0a01-46c9-97f5-e1f8fbeeaa8c",
   "metadata": {
    "tags": []
   },
   "outputs": [],
   "source": [
    "topic_dict = {'marijuana legalization': 'Marijuana should be legalized .',\n",
    "             'school uniforms': 'School uniforms should be permitted .',\n",
    "             'nuclear energy': 'Nuclear energy should be permitted .',\n",
    "             'minimum wage': 'Minimum wage should be permitted .',\n",
    "             'gun control': 'Gun control should be permitted .',\n",
    "             'death penalty': 'Death penalty should be permitted .',\n",
    "             'cloning': 'Cloning should be permitted .',\n",
    "             'abortion': 'Abortion should be permitted .'}"
   ]
  },
  {
   "cell_type": "code",
   "execution_count": 20,
   "id": "339f9b68-16ad-4cce-af6b-50b5f8704e68",
   "metadata": {
    "tags": []
   },
   "outputs": [
    {
     "data": {
      "text/plain": [
       "{'abortion',\n",
       " 'cloning',\n",
       " 'death penalty',\n",
       " 'gun control',\n",
       " 'marijuana legalization',\n",
       " 'minimum wage',\n",
       " 'nuclear energy',\n",
       " 'school uniforms'}"
      ]
     },
     "execution_count": 20,
     "metadata": {},
     "output_type": "execute_result"
    }
   ],
   "source": [
    "set(df_argmin[\"topic\"])"
   ]
  },
  {
   "cell_type": "code",
   "execution_count": 21,
   "id": "297062d4-4e53-4fd3-9a60-08b69a6810a8",
   "metadata": {
    "tags": []
   },
   "outputs": [],
   "source": [
    "df_argmin[\"topic\"] = df_argmin[\"topic\"].apply(lambda x: topic_dict.get(x))"
   ]
  },
  {
   "cell_type": "code",
   "execution_count": 22,
   "id": "bf499cf7-3b94-4b04-9531-345cdd269f41",
   "metadata": {
    "tags": []
   },
   "outputs": [],
   "source": [
    "df_argmin = df_argmin[df_argmin[\"annotation\"]!= \"NoArgument\"]"
   ]
  },
  {
   "cell_type": "code",
   "execution_count": 23,
   "id": "af97e12f-3498-41a6-9a78-e93f6c05c7c1",
   "metadata": {
    "tags": []
   },
   "outputs": [
    {
     "data": {
      "text/plain": [
       "{'Abortion should be permitted .',\n",
       " 'Cloning should be permitted .',\n",
       " 'Death penalty should be permitted .',\n",
       " 'Gun control should be permitted .',\n",
       " 'Marijuana should be legalized .',\n",
       " 'Minimum wage should be permitted .',\n",
       " 'Nuclear energy should be permitted .',\n",
       " 'School uniforms should be permitted .'}"
      ]
     },
     "execution_count": 23,
     "metadata": {},
     "output_type": "execute_result"
    }
   ],
   "source": [
    "set(df_argmin[\"topic\"])"
   ]
  },
  {
   "cell_type": "code",
   "execution_count": 24,
   "id": "ee812931-2117-46b1-9a64-504786064b7e",
   "metadata": {
    "tags": []
   },
   "outputs": [],
   "source": [
    "df_argmin.loc[df_argmin['annotation'] == 'Argument_against', 'annotation'] = 0\n",
    "df_argmin.loc[df_argmin['annotation'] == 'Argument_for', 'annotation'] = 1"
   ]
  },
  {
   "cell_type": "code",
   "execution_count": 25,
   "id": "e9d3cae2-5815-4db1-8990-3a7f0af71302",
   "metadata": {
    "tags": []
   },
   "outputs": [
    {
     "data": {
      "text/html": [
       "<div>\n",
       "<style scoped>\n",
       "    .dataframe tbody tr th:only-of-type {\n",
       "        vertical-align: middle;\n",
       "    }\n",
       "\n",
       "    .dataframe tbody tr th {\n",
       "        vertical-align: top;\n",
       "    }\n",
       "\n",
       "    .dataframe thead th {\n",
       "        text-align: right;\n",
       "    }\n",
       "</style>\n",
       "<table border=\"1\" class=\"dataframe\">\n",
       "  <thead>\n",
       "    <tr style=\"text-align: right;\">\n",
       "      <th></th>\n",
       "      <th>uid</th>\n",
       "      <th>stance</th>\n",
       "      <th>claim</th>\n",
       "      <th>premise</th>\n",
       "      <th>set</th>\n",
       "    </tr>\n",
       "  </thead>\n",
       "  <tbody>\n",
       "    <tr>\n",
       "      <th>3</th>\n",
       "      <td>3</td>\n",
       "      <td>1</td>\n",
       "      <td>Nuclear energy should be permitted .</td>\n",
       "      <td>Fossil fuels receive large direct and indirect...</td>\n",
       "      <td>train</td>\n",
       "    </tr>\n",
       "    <tr>\n",
       "      <th>8</th>\n",
       "      <td>8</td>\n",
       "      <td>0</td>\n",
       "      <td>Nuclear energy should be permitted .</td>\n",
       "      <td>The number of U.S. reactors shut down for a ye...</td>\n",
       "      <td>val</td>\n",
       "    </tr>\n",
       "    <tr>\n",
       "      <th>9</th>\n",
       "      <td>9</td>\n",
       "      <td>0</td>\n",
       "      <td>Nuclear energy should be permitted .</td>\n",
       "      <td>After the accident at Three Mile Island , buil...</td>\n",
       "      <td>val</td>\n",
       "    </tr>\n",
       "    <tr>\n",
       "      <th>10</th>\n",
       "      <td>10</td>\n",
       "      <td>0</td>\n",
       "      <td>Nuclear energy should be permitted .</td>\n",
       "      <td>As the nuclear power issue has been widely deb...</td>\n",
       "      <td>train</td>\n",
       "    </tr>\n",
       "    <tr>\n",
       "      <th>14</th>\n",
       "      <td>14</td>\n",
       "      <td>1</td>\n",
       "      <td>Nuclear energy should be permitted .</td>\n",
       "      <td>For all this , it 's worth noting that uranium...</td>\n",
       "      <td>train</td>\n",
       "    </tr>\n",
       "    <tr>\n",
       "      <th>...</th>\n",
       "      <td>...</td>\n",
       "      <td>...</td>\n",
       "      <td>...</td>\n",
       "      <td>...</td>\n",
       "      <td>...</td>\n",
       "    </tr>\n",
       "    <tr>\n",
       "      <th>25479</th>\n",
       "      <td>25479</td>\n",
       "      <td>1</td>\n",
       "      <td>Marijuana should be legalized .</td>\n",
       "      <td>Prohibition has robbed children of their futur...</td>\n",
       "      <td>train</td>\n",
       "    </tr>\n",
       "    <tr>\n",
       "      <th>25481</th>\n",
       "      <td>25481</td>\n",
       "      <td>0</td>\n",
       "      <td>Marijuana should be legalized .</td>\n",
       "      <td>Legalizing marijuana would also lead to negati...</td>\n",
       "      <td>train</td>\n",
       "    </tr>\n",
       "    <tr>\n",
       "      <th>25482</th>\n",
       "      <td>25482</td>\n",
       "      <td>0</td>\n",
       "      <td>Marijuana should be legalized .</td>\n",
       "      <td>Contrary to what is stated above , marijuana u...</td>\n",
       "      <td>test</td>\n",
       "    </tr>\n",
       "    <tr>\n",
       "      <th>25486</th>\n",
       "      <td>25486</td>\n",
       "      <td>0</td>\n",
       "      <td>Marijuana should be legalized .</td>\n",
       "      <td>Some of the most common ones include dry mouth...</td>\n",
       "      <td>train</td>\n",
       "    </tr>\n",
       "    <tr>\n",
       "      <th>25488</th>\n",
       "      <td>25488</td>\n",
       "      <td>0</td>\n",
       "      <td>Marijuana should be legalized .</td>\n",
       "      <td>The Administration — widely viewed as more lib...</td>\n",
       "      <td>train</td>\n",
       "    </tr>\n",
       "  </tbody>\n",
       "</table>\n",
       "<p>11139 rows × 5 columns</p>\n",
       "</div>"
      ],
      "text/plain": [
       "         uid stance                                 claim   \n",
       "3          3      1  Nuclear energy should be permitted .  \\\n",
       "8          8      0  Nuclear energy should be permitted .   \n",
       "9          9      0  Nuclear energy should be permitted .   \n",
       "10        10      0  Nuclear energy should be permitted .   \n",
       "14        14      1  Nuclear energy should be permitted .   \n",
       "...      ...    ...                                   ...   \n",
       "25479  25479      1       Marijuana should be legalized .   \n",
       "25481  25481      0       Marijuana should be legalized .   \n",
       "25482  25482      0       Marijuana should be legalized .   \n",
       "25486  25486      0       Marijuana should be legalized .   \n",
       "25488  25488      0       Marijuana should be legalized .   \n",
       "\n",
       "                                                 premise    set  \n",
       "3      Fossil fuels receive large direct and indirect...  train  \n",
       "8      The number of U.S. reactors shut down for a ye...    val  \n",
       "9      After the accident at Three Mile Island , buil...    val  \n",
       "10     As the nuclear power issue has been widely deb...  train  \n",
       "14     For all this , it 's worth noting that uranium...  train  \n",
       "...                                                  ...    ...  \n",
       "25479  Prohibition has robbed children of their futur...  train  \n",
       "25481  Legalizing marijuana would also lead to negati...  train  \n",
       "25482  Contrary to what is stated above , marijuana u...   test  \n",
       "25486  Some of the most common ones include dry mouth...  train  \n",
       "25488  The Administration — widely viewed as more lib...  train  \n",
       "\n",
       "[11139 rows x 5 columns]"
      ]
     },
     "execution_count": 25,
     "metadata": {},
     "output_type": "execute_result"
    }
   ],
   "source": [
    "df_argmin = df_argmin[[\"uid\", \"annotation\", \"topic\", \"sentence\", \"set\"]]\n",
    "df_argmin.rename(columns={\"annotation\":\"stance\", \"sentence\":\"premise\", \"topic\": \"claim\"}, inplace=True)\n",
    "df_argmin"
   ]
  },
  {
   "cell_type": "code",
   "execution_count": 26,
   "id": "95e9bfe4-4b91-4036-9132-468cf12d20f4",
   "metadata": {
    "tags": []
   },
   "outputs": [
    {
     "data": {
      "text/plain": [
       "Counter({0: 6195, 1: 4944})"
      ]
     },
     "execution_count": 26,
     "metadata": {},
     "output_type": "execute_result"
    }
   ],
   "source": [
    "Counter(df_argmin[\"stance\"])"
   ]
  },
  {
   "cell_type": "code",
   "execution_count": 27,
   "id": "47173d59-2452-4391-b027-a1ffbd218b0f",
   "metadata": {},
   "outputs": [],
   "source": [
    "df_argmin.reset_index(inplace=True)"
   ]
  },
  {
   "cell_type": "code",
   "execution_count": 28,
   "id": "7fb44fda-fb67-4aa3-9e47-5a09e95dfc13",
   "metadata": {
    "tags": []
   },
   "outputs": [],
   "source": [
    "df_argmin.to_csv(\"data/argmin_all.csv\")\n",
    "# df_argmin[df_argmin[\"set\"]==\"train\"].to_csv(\"data/argmin_train.csv\")\n",
    "# df_argmin[df_argmin[\"set\"]==\"dev\"].to_csv(\"data/argmin_dev.csv\")\n",
    "# df_argmin[df_argmin[\"set\"]==\"test\"].to_csv(\"data/argmin_test.csv\")"
   ]
  },
  {
   "cell_type": "code",
   "execution_count": null,
   "id": "4b682ede-9ca5-4175-890a-3b2994dbe023",
   "metadata": {},
   "outputs": [],
   "source": []
  },
  {
   "cell_type": "code",
   "execution_count": null,
   "id": "5173b70b-a014-40ea-bf64-61413f4ee820",
   "metadata": {},
   "outputs": [],
   "source": []
  },
  {
   "cell_type": "markdown",
   "id": "9621f800-4ad1-4e25-bc6e-31713070fb32",
   "metadata": {},
   "source": [
    "## IBM claim Stance\n",
    "\n",
    "request data here: https://research.ibm.com/haifa/dept/vst/debating_data.shtml#Argument_Stance"
   ]
  },
  {
   "cell_type": "code",
   "execution_count": null,
   "id": "3d7abe98-6bda-4c7b-a893-6c764d153670",
   "metadata": {},
   "outputs": [],
   "source": []
  },
  {
   "cell_type": "code",
   "execution_count": 29,
   "id": "a6c532b2-c3a2-465a-b147-1b72c2ac1ea4",
   "metadata": {
    "tags": []
   },
   "outputs": [],
   "source": [
    "ibmcs = pd.read_csv(\"data/IBM_CLAIM_STANCE/claim_stance_dataset_v1.csv\")"
   ]
  },
  {
   "cell_type": "code",
   "execution_count": 30,
   "id": "ac742a47-c3eb-4fe7-b231-a4107c2bbd6a",
   "metadata": {
    "tags": []
   },
   "outputs": [
    {
     "data": {
      "text/html": [
       "<div>\n",
       "<style scoped>\n",
       "    .dataframe tbody tr th:only-of-type {\n",
       "        vertical-align: middle;\n",
       "    }\n",
       "\n",
       "    .dataframe tbody tr th {\n",
       "        vertical-align: top;\n",
       "    }\n",
       "\n",
       "    .dataframe thead th {\n",
       "        text-align: right;\n",
       "    }\n",
       "</style>\n",
       "<table border=\"1\" class=\"dataframe\">\n",
       "  <thead>\n",
       "    <tr style=\"text-align: right;\">\n",
       "      <th></th>\n",
       "      <th>uid</th>\n",
       "      <th>stance</th>\n",
       "      <th>claim</th>\n",
       "      <th>premise</th>\n",
       "      <th>set</th>\n",
       "    </tr>\n",
       "  </thead>\n",
       "  <tbody>\n",
       "    <tr>\n",
       "      <th>0</th>\n",
       "      <td>0</td>\n",
       "      <td>PRO</td>\n",
       "      <td>This house believes that the sale of violent v...</td>\n",
       "      <td>Exposure to violent video games causes at leas...</td>\n",
       "      <td>test</td>\n",
       "    </tr>\n",
       "    <tr>\n",
       "      <th>1</th>\n",
       "      <td>1</td>\n",
       "      <td>CON</td>\n",
       "      <td>This house believes that the sale of violent v...</td>\n",
       "      <td>video game violence is not related to serious ...</td>\n",
       "      <td>test</td>\n",
       "    </tr>\n",
       "    <tr>\n",
       "      <th>2</th>\n",
       "      <td>2</td>\n",
       "      <td>CON</td>\n",
       "      <td>This house believes that the sale of violent v...</td>\n",
       "      <td>some violent video games may actually have a p...</td>\n",
       "      <td>test</td>\n",
       "    </tr>\n",
       "    <tr>\n",
       "      <th>3</th>\n",
       "      <td>3</td>\n",
       "      <td>PRO</td>\n",
       "      <td>This house believes that the sale of violent v...</td>\n",
       "      <td>exposure to violent video games causes both sh...</td>\n",
       "      <td>test</td>\n",
       "    </tr>\n",
       "    <tr>\n",
       "      <th>4</th>\n",
       "      <td>4</td>\n",
       "      <td>PRO</td>\n",
       "      <td>This house believes that the sale of violent v...</td>\n",
       "      <td>Violent video games increase the violent tende...</td>\n",
       "      <td>test</td>\n",
       "    </tr>\n",
       "    <tr>\n",
       "      <th>...</th>\n",
       "      <td>...</td>\n",
       "      <td>...</td>\n",
       "      <td>...</td>\n",
       "      <td>...</td>\n",
       "      <td>...</td>\n",
       "    </tr>\n",
       "    <tr>\n",
       "      <th>2389</th>\n",
       "      <td>2389</td>\n",
       "      <td>CON</td>\n",
       "      <td>This house would promote democratization</td>\n",
       "      <td>democracies have ever been found incompatible ...</td>\n",
       "      <td>train</td>\n",
       "    </tr>\n",
       "    <tr>\n",
       "      <th>2390</th>\n",
       "      <td>2390</td>\n",
       "      <td>CON</td>\n",
       "      <td>This house would promote democratization</td>\n",
       "      <td>democracy cannot subsist long nor be carried f...</td>\n",
       "      <td>train</td>\n",
       "    </tr>\n",
       "    <tr>\n",
       "      <th>2391</th>\n",
       "      <td>2391</td>\n",
       "      <td>CON</td>\n",
       "      <td>This house would promote democratization</td>\n",
       "      <td>Democracy in general is criticized for ignorin...</td>\n",
       "      <td>train</td>\n",
       "    </tr>\n",
       "    <tr>\n",
       "      <th>2392</th>\n",
       "      <td>2392</td>\n",
       "      <td>PRO</td>\n",
       "      <td>This house would promote democratization</td>\n",
       "      <td>democracy and freedom are indispensable ingred...</td>\n",
       "      <td>train</td>\n",
       "    </tr>\n",
       "    <tr>\n",
       "      <th>2393</th>\n",
       "      <td>2393</td>\n",
       "      <td>CON</td>\n",
       "      <td>This house would promote democratization</td>\n",
       "      <td>democracy cannot be imposed from outside</td>\n",
       "      <td>train</td>\n",
       "    </tr>\n",
       "  </tbody>\n",
       "</table>\n",
       "<p>2394 rows × 5 columns</p>\n",
       "</div>"
      ],
      "text/plain": [
       "       uid stance                                              claim   \n",
       "0        0    PRO  This house believes that the sale of violent v...  \\\n",
       "1        1    CON  This house believes that the sale of violent v...   \n",
       "2        2    CON  This house believes that the sale of violent v...   \n",
       "3        3    PRO  This house believes that the sale of violent v...   \n",
       "4        4    PRO  This house believes that the sale of violent v...   \n",
       "...    ...    ...                                                ...   \n",
       "2389  2389    CON           This house would promote democratization   \n",
       "2390  2390    CON           This house would promote democratization   \n",
       "2391  2391    CON           This house would promote democratization   \n",
       "2392  2392    PRO           This house would promote democratization   \n",
       "2393  2393    CON           This house would promote democratization   \n",
       "\n",
       "                                                premise    set  \n",
       "0     Exposure to violent video games causes at leas...   test  \n",
       "1     video game violence is not related to serious ...   test  \n",
       "2     some violent video games may actually have a p...   test  \n",
       "3     exposure to violent video games causes both sh...   test  \n",
       "4     Violent video games increase the violent tende...   test  \n",
       "...                                                 ...    ...  \n",
       "2389  democracies have ever been found incompatible ...  train  \n",
       "2390  democracy cannot subsist long nor be carried f...  train  \n",
       "2391  Democracy in general is criticized for ignorin...  train  \n",
       "2392  democracy and freedom are indispensable ingred...  train  \n",
       "2393           democracy cannot be imposed from outside  train  \n",
       "\n",
       "[2394 rows x 5 columns]"
      ]
     },
     "execution_count": 30,
     "metadata": {},
     "output_type": "execute_result"
    }
   ],
   "source": [
    "ibmcs[\"uid\"] = range(0,len(ibmcs))\n",
    "ibmcs = ibmcs[[\"uid\", \"claims.stance\", \"topicText\", \"claims.claimCorrectedText\", \"split\"]]\n",
    "ibmcs.rename(columns={\"claims.stance\":\"stance\", \"topicText\":\"claim\",\"claims.claimCorrectedText\": \"premise\", \"split\": \"set\"}, inplace=True)\n",
    "ibmcs"
   ]
  },
  {
   "cell_type": "code",
   "execution_count": 31,
   "id": "a8942a9d-6663-4f24-a349-fb360f83daaf",
   "metadata": {
    "tags": []
   },
   "outputs": [],
   "source": [
    "ibmcs.loc[ibmcs['stance'] == 'PRO', 'stance'] = 1\n",
    "ibmcs.loc[ibmcs['stance'] == 'CON', 'stance'] = 0"
   ]
  },
  {
   "cell_type": "code",
   "execution_count": 32,
   "id": "f2ff949d-0108-45c7-99f1-2de55a23c286",
   "metadata": {
    "tags": []
   },
   "outputs": [
    {
     "data": {
      "text/html": [
       "<div>\n",
       "<style scoped>\n",
       "    .dataframe tbody tr th:only-of-type {\n",
       "        vertical-align: middle;\n",
       "    }\n",
       "\n",
       "    .dataframe tbody tr th {\n",
       "        vertical-align: top;\n",
       "    }\n",
       "\n",
       "    .dataframe thead th {\n",
       "        text-align: right;\n",
       "    }\n",
       "</style>\n",
       "<table border=\"1\" class=\"dataframe\">\n",
       "  <thead>\n",
       "    <tr style=\"text-align: right;\">\n",
       "      <th></th>\n",
       "      <th>uid</th>\n",
       "      <th>stance</th>\n",
       "      <th>claim</th>\n",
       "      <th>premise</th>\n",
       "      <th>set</th>\n",
       "    </tr>\n",
       "  </thead>\n",
       "  <tbody>\n",
       "    <tr>\n",
       "      <th>1495</th>\n",
       "      <td>1495</td>\n",
       "      <td>0</td>\n",
       "      <td>This house believes that Israel's 2008-2009 mi...</td>\n",
       "      <td>Israel disproportionately attacked civilians</td>\n",
       "      <td>train</td>\n",
       "    </tr>\n",
       "    <tr>\n",
       "      <th>2164</th>\n",
       "      <td>2164</td>\n",
       "      <td>1</td>\n",
       "      <td>This house would never have children</td>\n",
       "      <td>the human population is far greater than the E...</td>\n",
       "      <td>train</td>\n",
       "    </tr>\n",
       "    <tr>\n",
       "      <th>1494</th>\n",
       "      <td>1494</td>\n",
       "      <td>1</td>\n",
       "      <td>This house believes that Israel's 2008-2009 mi...</td>\n",
       "      <td>Hamas is guilty of war crimes</td>\n",
       "      <td>train</td>\n",
       "    </tr>\n",
       "    <tr>\n",
       "      <th>578</th>\n",
       "      <td>578</td>\n",
       "      <td>1</td>\n",
       "      <td>This house believes that the Catholic Church i...</td>\n",
       "      <td>the sexual act must \"retain its intrinsic rela...</td>\n",
       "      <td>train</td>\n",
       "    </tr>\n",
       "    <tr>\n",
       "      <th>1899</th>\n",
       "      <td>1899</td>\n",
       "      <td>0</td>\n",
       "      <td>This house would implement playoffs in collegi...</td>\n",
       "      <td>numerous FBS Conferences have expressed their ...</td>\n",
       "      <td>train</td>\n",
       "    </tr>\n",
       "    <tr>\n",
       "      <th>...</th>\n",
       "      <td>...</td>\n",
       "      <td>...</td>\n",
       "      <td>...</td>\n",
       "      <td>...</td>\n",
       "      <td>...</td>\n",
       "    </tr>\n",
       "    <tr>\n",
       "      <th>731</th>\n",
       "      <td>731</td>\n",
       "      <td>0</td>\n",
       "      <td>This house would fund education using a vouche...</td>\n",
       "      <td>public education would be destroyed by tuition...</td>\n",
       "      <td>train</td>\n",
       "    </tr>\n",
       "    <tr>\n",
       "      <th>1465</th>\n",
       "      <td>1465</td>\n",
       "      <td>0</td>\n",
       "      <td>This house believes that Israel's 2008-2009 mi...</td>\n",
       "      <td>the livelihoods and assets of tens of thousand...</td>\n",
       "      <td>train</td>\n",
       "    </tr>\n",
       "    <tr>\n",
       "      <th>2154</th>\n",
       "      <td>2154</td>\n",
       "      <td>0</td>\n",
       "      <td>This house would never have children</td>\n",
       "      <td>there ought to be a higher rate of population ...</td>\n",
       "      <td>train</td>\n",
       "    </tr>\n",
       "    <tr>\n",
       "      <th>2373</th>\n",
       "      <td>2373</td>\n",
       "      <td>1</td>\n",
       "      <td>This house would promote democratization</td>\n",
       "      <td>majority rule is preferable to other systems</td>\n",
       "      <td>train</td>\n",
       "    </tr>\n",
       "    <tr>\n",
       "      <th>1909</th>\n",
       "      <td>1909</td>\n",
       "      <td>1</td>\n",
       "      <td>This house would unleash the free market</td>\n",
       "      <td>the state often serves dominant business inter...</td>\n",
       "      <td>train</td>\n",
       "    </tr>\n",
       "  </tbody>\n",
       "</table>\n",
       "<p>104 rows × 5 columns</p>\n",
       "</div>"
      ],
      "text/plain": [
       "       uid stance                                              claim   \n",
       "1495  1495      0  This house believes that Israel's 2008-2009 mi...  \\\n",
       "2164  2164      1               This house would never have children   \n",
       "1494  1494      1  This house believes that Israel's 2008-2009 mi...   \n",
       "578    578      1  This house believes that the Catholic Church i...   \n",
       "1899  1899      0  This house would implement playoffs in collegi...   \n",
       "...    ...    ...                                                ...   \n",
       "731    731      0  This house would fund education using a vouche...   \n",
       "1465  1465      0  This house believes that Israel's 2008-2009 mi...   \n",
       "2154  2154      0               This house would never have children   \n",
       "2373  2373      1           This house would promote democratization   \n",
       "1909  1909      1           This house would unleash the free market   \n",
       "\n",
       "                                                premise    set  \n",
       "1495       Israel disproportionately attacked civilians  train  \n",
       "2164  the human population is far greater than the E...  train  \n",
       "1494                      Hamas is guilty of war crimes  train  \n",
       "578   the sexual act must \"retain its intrinsic rela...  train  \n",
       "1899  numerous FBS Conferences have expressed their ...  train  \n",
       "...                                                 ...    ...  \n",
       "731   public education would be destroyed by tuition...  train  \n",
       "1465  the livelihoods and assets of tens of thousand...  train  \n",
       "2154  there ought to be a higher rate of population ...  train  \n",
       "2373       majority rule is preferable to other systems  train  \n",
       "1909  the state often serves dominant business inter...  train  \n",
       "\n",
       "[104 rows x 5 columns]"
      ]
     },
     "execution_count": 32,
     "metadata": {},
     "output_type": "execute_result"
    }
   ],
   "source": [
    "train, dev = train_test_split(ibmcs[ibmcs[\"set\"]==\"train\"], test_size=0.1, random_state=42)\n",
    "dev"
   ]
  },
  {
   "cell_type": "code",
   "execution_count": 33,
   "id": "aebde88d-d06b-4ec9-93ab-06e7bd345f41",
   "metadata": {
    "tags": []
   },
   "outputs": [],
   "source": [
    "ibmcs.loc[dev.index, \"set\"] = \"dev\""
   ]
  },
  {
   "cell_type": "code",
   "execution_count": 34,
   "id": "4085245f-de5c-478c-97f4-8752f98041fc",
   "metadata": {
    "tags": []
   },
   "outputs": [
    {
     "data": {
      "text/plain": [
       "Counter({'test': 1355, 'train': 935, 'dev': 104})"
      ]
     },
     "execution_count": 34,
     "metadata": {},
     "output_type": "execute_result"
    }
   ],
   "source": [
    "Counter(ibmcs[\"set\"])"
   ]
  },
  {
   "cell_type": "code",
   "execution_count": 35,
   "id": "2ded7f84-f82d-4e2c-881c-068ecd3e1380",
   "metadata": {
    "tags": []
   },
   "outputs": [
    {
     "data": {
      "text/plain": [
       "0.5534670008354219"
      ]
     },
     "execution_count": 35,
     "metadata": {},
     "output_type": "execute_result"
    }
   ],
   "source": [
    "len(ibmcs[ibmcs[\"stance\"]==1])/len(ibmcs)"
   ]
  },
  {
   "cell_type": "code",
   "execution_count": 36,
   "id": "817c8652-a590-4cb2-bba4-8b44b738799b",
   "metadata": {
    "tags": []
   },
   "outputs": [],
   "source": [
    "ibmcs.to_csv(\"data/ibmcs_all.csv\")"
   ]
  },
  {
   "cell_type": "code",
   "execution_count": 37,
   "id": "c2a062f5-eb2c-4461-8d1f-3c222379b458",
   "metadata": {
    "tags": []
   },
   "outputs": [],
   "source": [
    "# ibmcs[ibmcs[\"set\"]==\"train\"].to_csv(\"data/ibmcs_train.csv\")\n",
    "# ibmcs[ibmcs[\"set\"]==\"dev\"].to_csv(\"data/ibmcs_dev.csv\")\n",
    "# ibmcs[ibmcs[\"set\"]==\"test\"].to_csv(\"data/ibmcs_test.csv\")"
   ]
  },
  {
   "cell_type": "markdown",
   "id": "aa3ed534-37cc-4107-a6e1-83f092264c68",
   "metadata": {},
   "source": [
    "## Perspectrum"
   ]
  },
  {
   "cell_type": "raw",
   "id": "0ceccb9b-d01d-4b68-9dc5-986ea8b17c23",
   "metadata": {},
   "source": [
    "use code of mdl-stance above or download perspectrum directly\n",
    "## Download PERSPECTRUM\n",
    "mkdir $DATA_DIR/PERSPECTRUM\n",
    "git clone https://github.com/CogComp/perspectrum.git\n",
    "mv perspectrum/data/dataset/* $DATA_DIR/PERSPECTRUM\n",
    "rm -rf perspectrum"
   ]
  },
  {
   "cell_type": "code",
   "execution_count": 38,
   "id": "c0e6cf9e-53f1-4cc5-91ce-94bb6a3423c4",
   "metadata": {
    "tags": []
   },
   "outputs": [],
   "source": [
    "# https://github.com/UKPLab/mdl-stance-robustness/blob/master/data_utils/glue_utils.py#L647\n",
    "with open(\"data/PERSPECTRUM/dataset_split_v1.0.json\", \"r\") as split_in, \\\n",
    "        open(\"data/PERSPECTRUM/perspectrum_with_answers_v1.0.json\",\"r\") as claims_in, \\\n",
    "        open(\"data/PERSPECTRUM/perspective_pool_v1.0.json\", \"r\") as perspectives_in:\n",
    "\n",
    "        # load files\n",
    "        data_split = json.load(split_in)\n",
    "        claims = json.load(claims_in)\n",
    "        perspectives = json.load(perspectives_in)\n",
    "\n",
    "# lookup for perspective ids\n",
    "perspectives_dict = {}\n",
    "for p in perspectives:\n",
    "    perspectives_dict[p['pId']] = p['text']\n",
    "\n",
    "# init\n",
    "X_train, X_dev, X_test = [], [], []\n",
    "y_train, y_dev, y_test = [], [], []\n",
    "\n",
    "count_sup_cluster = 0\n",
    "count_und_cluster = 0\n",
    "\n",
    "# fill train/dev/test\n",
    "output_list = list()\n",
    "for claim in claims:\n",
    "    cId = str(claim['cId'])\n",
    "    for p_cluster in claim['perspectives']:\n",
    "        if p_cluster['stance_label_3'] == \"SUPPORT\":\n",
    "            cluster_label = 1\n",
    "        else:\n",
    "            cluster_label = 0\n",
    "        for pid in p_cluster['pids']:\n",
    "            # print(pid, cId, cluster_label, claim[\"text\"],perspectives_dict[pid], data_split[cId]) \n",
    "            output_list.append({\"uid\": pid, \"stance\": cluster_label, \"claim\": claim[\"text\"], \"premise\": perspectives_dict[pid], \"set\": data_split[cId]})\n",
    "        #     if data_split[cId] == 'train':\n",
    "        #         X_train.append((claim['text'], perspectives_dict[pid]))\n",
    "        #         y_train.append(cluster_label)\n",
    "        #     elif data_split[cId] == 'dev':\n",
    "        #         X_dev.append((claim['text'], perspectives_dict[pid]))\n",
    "        #         y_dev.append(cluster_label)\n",
    "        #     elif data_split[cId] == 'test':\n",
    "        #         X_test.append((claim['text'], perspectives_dict[pid]))\n",
    "        #         y_test.append(cluster_label)\n",
    "        #     else:\n",
    "        #         print(\"Incorrect set type: \"+data_split[claim['cId']])\n",
    "        # if cluster_label == 1:\n",
    "        #     count_sup_cluster += 1\n",
    "        # if cluster_label == 0:\n",
    "        #     count_und_cluster += 1\n",
    "\n",
    "\n",
    "perspectrum = pd.DataFrame(output_list)\n",
    "\n",
    "# print(X_train, y_train, X_dev, y_dev, X_test, y_test)"
   ]
  },
  {
   "cell_type": "code",
   "execution_count": 39,
   "id": "c37ac85d-d9a8-4b8d-b96e-470d8c5bf805",
   "metadata": {
    "tags": []
   },
   "outputs": [
    {
     "data": {
      "text/plain": [
       "Counter({'train': 6978, 'test': 2773, 'dev': 2071})"
      ]
     },
     "execution_count": 39,
     "metadata": {},
     "output_type": "execute_result"
    }
   ],
   "source": [
    "Counter(perspectrum[\"set\"])"
   ]
  },
  {
   "cell_type": "code",
   "execution_count": 40,
   "id": "a755c2cb-0d5c-4349-a62b-13ad168c076d",
   "metadata": {
    "tags": []
   },
   "outputs": [],
   "source": [
    "perspectrum.to_csv(\"data/perspectrum_all.csv\")\n",
    "# perspectrum[perspectrum[\"set\"]==\"train\"].to_csv(\"data/perspectrum_train.csv\")\n",
    "# perspectrum[perspectrum[\"set\"]==\"dev\"].to_csv(\"data/perspectrum_dev.csv\")\n",
    "# perspectrum[perspectrum[\"set\"]==\"test\"].to_csv(\"data/perspectrum_test.csv\")"
   ]
  },
  {
   "cell_type": "code",
   "execution_count": null,
   "id": "4fa71467-41b5-4121-9f83-0d658bd03528",
   "metadata": {},
   "outputs": [],
   "source": []
  },
  {
   "cell_type": "code",
   "execution_count": null,
   "id": "99389eb8-a1ea-4cde-bddf-3c716db4619d",
   "metadata": {},
   "outputs": [],
   "source": []
  },
  {
   "cell_type": "code",
   "execution_count": null,
   "id": "4cff3585-10e8-46d3-acd6-c3d8769f9c6c",
   "metadata": {},
   "outputs": [],
   "source": []
  }
 ],
 "metadata": {
  "kernelspec": {
   "display_name": "Python 3 (ipykernel)",
   "language": "python",
   "name": "python3"
  },
  "language_info": {
   "codemirror_mode": {
    "name": "ipython",
    "version": 3
   },
   "file_extension": ".py",
   "mimetype": "text/x-python",
   "name": "python",
   "nbconvert_exporter": "python",
   "pygments_lexer": "ipython3",
   "version": "3.9.16"
  }
 },
 "nbformat": 4,
 "nbformat_minor": 5
}
